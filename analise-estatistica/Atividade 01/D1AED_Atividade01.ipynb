{
 "cells": [
  {
   "cell_type": "markdown",
   "id": "c88c62b5-3689-4dc5-b2ad-4c0fef6238a8",
   "metadata": {},
   "source": [
    "# D1AED: Análise Estatística para Ciência de Dados (IFSP Campinas)"
   ]
  },
  {
   "cell_type": "markdown",
   "id": "33dc4361-93b0-4ad5-9882-8e72e676d6ab",
   "metadata": {},
   "source": [
    "## Atividade em Grupo 1 - Prazo: 26/05/2022 às 23:59\n",
    "Nesta atividade, cada grupo (**máximo de 3 integrantes**) deverá resolver a lista de exercícios presentes neste notebook. Todos os exercícios deverão ser respondidos no próprio notebook usando Python. \n",
    "\n",
    "#### Submissão\n",
    "- Cada grupo deverá submeter um **arquivo .zip** contendo o _notebook_ com as respostas e a pasta `datasets`, contendo todos os datasets usados no notebook;\n",
    "- A submissão da atividade será feita em tarefa específica no Moodle da disciplina;\n",
    "- Apenas **um membro do grupo** deverá submeter a atividade;\n",
    "- Há materiais de apoio/estudos na tarefa do Moodle.\n",
    "\n",
    "**Prazo:** 26/05/2022 às 23:59"
   ]
  },
  {
   "cell_type": "markdown",
   "id": "4d2e16c5-d653-471e-8dcc-ed41be3ea64e",
   "metadata": {},
   "source": [
    "#### **Nomes e Prontuários dos Integrantes do Grupo (máx 3):**\n",
    "- Fulano da Silva (123456789)\n",
    "- Sicrano de Oliveira (9999999)\n",
    "- Beltrano Santos (1111111)"
   ]
  },
  {
   "cell_type": "markdown",
   "id": "ad2d02fd-d5f1-4e37-b479-75016b6ec2ad",
   "metadata": {},
   "source": [
    "### Question 1\n",
    "At a given university, forty percent of students speak three languages. When randomly selecting 15 students:"
   ]
  },
  {
   "cell_type": "markdown",
   "id": "ee426368-cf31-4bb5-935d-e75289acda0d",
   "metadata": {},
   "source": [
    "**(a)** What is the probability that 3 students speak three languages?"
   ]
  },
  {
   "cell_type": "code",
   "execution_count": null,
   "id": "e79b2a0b-69a2-4641-8a5a-106a539f6f2c",
   "metadata": {},
   "outputs": [],
   "source": []
  },
  {
   "cell_type": "markdown",
   "id": "0498cec8-83a0-405c-b9d4-87f167ad06e6",
   "metadata": {},
   "source": [
    "**(b)** What is the probability that 12 students do not speak three languages?"
   ]
  },
  {
   "cell_type": "code",
   "execution_count": null,
   "id": "bf3f4bcc-16ed-4ad8-9401-09183c26cd97",
   "metadata": {},
   "outputs": [],
   "source": []
  },
  {
   "cell_type": "markdown",
   "id": "704401e9-3ce6-4408-a4ef-f76e90c4606c",
   "metadata": {},
   "source": [
    "**(c)** What is the probability that at least 3 students speak three languages?"
   ]
  },
  {
   "cell_type": "code",
   "execution_count": null,
   "id": "edd3a762-3f0e-4b56-87da-a1e3e7c68bcc",
   "metadata": {},
   "outputs": [],
   "source": []
  },
  {
   "cell_type": "markdown",
   "id": "b5f9d848-85a6-4720-a5d1-c415a55384ab",
   "metadata": {},
   "source": [
    "### Question 2\n",
    "\n",
    "The mean of defects in ethernet cables manufactured by a company is 1.2 defects for every 6 meters of length. \n",
    "What is the probability of getting less than 2 defects when inspecting 6 meters of cable at random?"
   ]
  },
  {
   "cell_type": "code",
   "execution_count": null,
   "id": "20166869-128d-493e-bd45-4de707434b74",
   "metadata": {},
   "outputs": [],
   "source": []
  },
  {
   "cell_type": "markdown",
   "id": "30e5cb9d-7dbb-4a38-9942-6a2fd70085ae",
   "metadata": {},
   "source": [
    "### Question 3\n",
    "\n",
    "Patients with a serious illness have been treated by a drug that causes a side effect at a rate of three patiences in a hundred. When selecting ten patients treated with this drug, what is the chance that at least one will have side effects?"
   ]
  },
  {
   "cell_type": "code",
   "execution_count": null,
   "id": "d6b7126e-bf15-43a2-8d8a-e6932dbaa1ac",
   "metadata": {},
   "outputs": [],
   "source": []
  },
  {
   "cell_type": "markdown",
   "id": "7f1317f5-359c-4138-8062-cc7dcdb0e565",
   "metadata": {},
   "source": [
    "### Question 4\n",
    "\n",
    "The length of a human pregnancy approximates a normal distribution with a mean of 272 days with a standard deviation of 9 days."
   ]
  },
  {
   "cell_type": "markdown",
   "id": "750e4111-b478-4151-a66b-ed05b514bcf2",
   "metadata": {},
   "source": [
    "**(a)** What proportion of all pregnancies will last between 265 and 280 days?"
   ]
  },
  {
   "cell_type": "code",
   "execution_count": null,
   "id": "399ba8bb-9c02-4f03-a672-cd3b1e096ec1",
   "metadata": {},
   "outputs": [],
   "source": []
  },
  {
   "cell_type": "markdown",
   "id": "6d3cf0c9-5d09-4180-a78f-e3d23b2b9437",
   "metadata": {},
   "source": [
    "**(b)** What length of time marks the shortest 70% of all pregnancies? "
   ]
  },
  {
   "cell_type": "code",
   "execution_count": null,
   "id": "462eb623-0e2b-4a14-9f33-593ac9f5dfa8",
   "metadata": {},
   "outputs": [],
   "source": []
  },
  {
   "cell_type": "markdown",
   "id": "70f08783-93a7-418c-a8c8-66e9927c76a7",
   "metadata": {},
   "source": [
    "### Question 5\n",
    "\n",
    "The average numbers of traffic accidents on a certain section of highway is 0.5 per week. Find the probability that:"
   ]
  },
  {
   "cell_type": "markdown",
   "id": "3e148e3f-4a72-4215-8506-f6233bf0a1ed",
   "metadata": {},
   "source": [
    "**(a)** There will be less than 2 accidents in a week selected at random:"
   ]
  },
  {
   "cell_type": "code",
   "execution_count": null,
   "id": "5e7b4c08-5efa-47f4-84f8-d9034f8b1283",
   "metadata": {},
   "outputs": [],
   "source": []
  },
  {
   "cell_type": "markdown",
   "id": "63d04db5-a3d0-4a45-b65e-897eddd76423",
   "metadata": {},
   "source": [
    "**(b)** In a particular week, there will be more than 2 accidents:"
   ]
  },
  {
   "cell_type": "code",
   "execution_count": null,
   "id": "7f11881b-dee1-4f53-a2da-c68623fc20f9",
   "metadata": {},
   "outputs": [],
   "source": []
  },
  {
   "cell_type": "markdown",
   "id": "5ea44b99-a413-4195-a99b-85b9d9ced692",
   "metadata": {},
   "source": [
    "**(c)** There will be no accidents in three weeks:"
   ]
  },
  {
   "cell_type": "code",
   "execution_count": null,
   "id": "7291a076-76fe-4e9b-8d6a-bca283de43cb",
   "metadata": {},
   "outputs": [],
   "source": []
  },
  {
   "cell_type": "markdown",
   "id": "75d9cc65-ae23-43f8-ba83-86776b8c8ad3",
   "metadata": {},
   "source": [
    "### Question 6\n",
    "\n",
    "A factory produces chocolates in boxes of 200. The probability of missing one chocolate in a box is 0.006. What is the probability that a randomly selected box is missing at most two chocolates? <br/>\n",
    "**Tip:** [Poisson Approximation to the Binomial.](https://bestmaths.net/online/index.php/year-levels/year-12/year-12-topic-list/poisson-approximation-binomial/#:~:text=Poisson%20Approximation%20to%20the%20Binomial&text=When%20the%20value%20of%20n,Poisson%20is%20a%20good%20approximation.)"
   ]
  },
  {
   "cell_type": "code",
   "execution_count": null,
   "id": "714b9c56-7f7b-48e5-a18f-7b700b26f1a2",
   "metadata": {},
   "outputs": [],
   "source": []
  },
  {
   "cell_type": "markdown",
   "id": "c0df96d4-0b29-463c-91d2-a43abe467df6",
   "metadata": {},
   "source": [
    "### Question 7\n",
    "In a town, the distance traveled by students to school is normally distributed with $\\mu=7.5$km and $\\sigma=2.5$km."
   ]
  },
  {
   "cell_type": "markdown",
   "id": "a54af25b-f3d0-42dc-b360-a2d16ff6a296",
   "metadata": {},
   "source": [
    "**(a)** What is the probability that the distance covered by a randomly selected student is less than 11 km?"
   ]
  },
  {
   "cell_type": "code",
   "execution_count": null,
   "id": "f12aa861-813b-4d21-9ff9-40c44e5b4e44",
   "metadata": {},
   "outputs": [],
   "source": []
  },
  {
   "cell_type": "markdown",
   "id": "bba1e671-89a0-41d4-bae8-d210f38a81b4",
   "metadata": {},
   "source": [
    "**(b)** What is the probability that the distance covered by a randomly selected student is betweem 5.5 km than 10.5 km?"
   ]
  },
  {
   "cell_type": "code",
   "execution_count": null,
   "id": "ae375044-41f7-4797-bbdd-c4803ae6826f",
   "metadata": {},
   "outputs": [],
   "source": []
  },
  {
   "cell_type": "markdown",
   "id": "aaefb99d-0f76-4d2c-98e4-46da2b6cfa1f",
   "metadata": {},
   "source": [
    "**(c)** Find _d_ such that 10% of the students travel less than _d_ kilometers to school."
   ]
  },
  {
   "cell_type": "code",
   "execution_count": null,
   "id": "1423d329-014c-4008-b14a-d3217d95bbf4",
   "metadata": {},
   "outputs": [],
   "source": []
  },
  {
   "cell_type": "markdown",
   "id": "637478bc-c439-4a30-9a26-2984c9ba236a",
   "metadata": {},
   "source": [
    "**(d)** What is the probability that the mean distance traveled by a random sample of 6 students is less than 5 km? <br/>\n",
    "**Tip:** Central Limit Theorem."
   ]
  },
  {
   "cell_type": "code",
   "execution_count": null,
   "id": "4348835e-3591-402d-9914-d5dd45c04d90",
   "metadata": {},
   "outputs": [],
   "source": []
  },
  {
   "cell_type": "markdown",
   "id": "1983880e-13ff-44b8-9062-ddbc0ecab388",
   "metadata": {},
   "source": [
    "### Question 8\n",
    "\n",
    "The recovery time of a patient with a certain illness follows a normal distribution with a standard deviation of 2 days. Calculate the confidence level for a sample of 12 patients which indicates that the population recovery time is between 13 and 15 days."
   ]
  },
  {
   "cell_type": "code",
   "execution_count": null,
   "id": "5bc2c021-d856-400a-a65c-054673611253",
   "metadata": {},
   "outputs": [],
   "source": []
  },
  {
   "cell_type": "markdown",
   "id": "38a5d6e3-a786-4a0c-ac72-7b5c12df9fea",
   "metadata": {},
   "source": [
    "### Question 9\n",
    "\n",
    "John moved out to _Stats City_ for work. John needs to rent a place to live, so he has compiled a list of 60 apartments randomly chosen from the EasyRent real estate. This compilation is stored at the dataset `'./datasets/rents.csv'`, where the column `price` is the monthly rent price in dollars."
   ]
  },
  {
   "cell_type": "markdown",
   "id": "ec30039a-5bd7-443a-a153-f951ee6b4617",
   "metadata": {},
   "source": [
    "**(a)** Construct a 95% confidence interval by Central Limit Theorem and Bootstrapping. Compare the results."
   ]
  },
  {
   "cell_type": "code",
   "execution_count": null,
   "id": "cba3396c-8e89-4972-8bb7-6c228665df99",
   "metadata": {},
   "outputs": [],
   "source": []
  },
  {
   "cell_type": "markdown",
   "id": "d3a6388f-284e-4713-b16c-1f3f1d9196b2",
   "metadata": {},
   "source": [
    "**(b)** To what population of apartments can you appropriately infer from your sample? (your answer may be in Portuguese or English)"
   ]
  },
  {
   "cell_type": "markdown",
   "id": "864ba4d8-11ce-4694-ba5b-ba4a1857373d",
   "metadata": {},
   "source": []
  },
  {
   "cell_type": "markdown",
   "id": "529014f9-432e-4eb6-a4d1-1d07804e357e",
   "metadata": {},
   "source": [
    "**(c)** How large a sample of apartments be needed to estimate the population mean within $\\pm$ \\$50.0 with 90% confidence?"
   ]
  },
  {
   "cell_type": "code",
   "execution_count": null,
   "id": "ece221ba-77b1-4b4b-a0bb-727d2f41082f",
   "metadata": {},
   "outputs": [],
   "source": []
  },
  {
   "cell_type": "markdown",
   "id": "7027bb78-6656-4f4e-a9f5-9a68776ccb43",
   "metadata": {},
   "source": [
    "### Question 10\n",
    "\n",
    "In order to estimate the average height of the population of a town, a survey collected a sample containing the height of 400 people chosen at random. The file `'./datasets/heights.csv'` contains the registered heights.\n",
    "\n",
    "The average heights of a random sample of 400 people from a city is 1.75 m. It is known that the heights of the population are random variables that follow a normal distribution with a variance of 0.16."
   ]
  },
  {
   "cell_type": "markdown",
   "id": "ce5098c0-4aaa-4b9c-9b72-f87802e09f5b",
   "metadata": {},
   "source": [
    "**(a)** Construct a 95% confidence interval by using the Central Limit Theorem and Bootstrapping. Compare the results."
   ]
  },
  {
   "cell_type": "code",
   "execution_count": null,
   "id": "8c2f7f94-5701-439e-878b-517009decdaf",
   "metadata": {},
   "outputs": [],
   "source": []
  },
  {
   "cell_type": "markdown",
   "id": "873f491f-02e1-473f-8453-e7a7333fb3d6",
   "metadata": {},
   "source": [
    "**(b)** With a confidence level of 90%, what would the minimum sample size need to be in order for the true mean of the heights to be less than 2 cm from the sample mean?"
   ]
  },
  {
   "cell_type": "code",
   "execution_count": null,
   "id": "b2b57d67-d39f-4b14-9e84-71f8105ea953",
   "metadata": {},
   "outputs": [],
   "source": []
  },
  {
   "cell_type": "markdown",
   "id": "903c3176-48ee-48c0-95ff-e1784d6f8483",
   "metadata": {},
   "source": [
    "### Question 11\n",
    "\n",
    "Monthly sales for a bakery follow a normal distribution with a standard deviation of \\\\$900.00. By statistically studying sales in the last 9 months, a confidence interval for the mean monthly sales of [\\\\$4,663.00, \\\\$5,839.00] was found."
   ]
  },
  {
   "cell_type": "markdown",
   "id": "b2959c7b-a642-4fd4-8e13-551b6d58068e",
   "metadata": {},
   "source": [
    "**(a)** What were the average sales over the nine month period?"
   ]
  },
  {
   "cell_type": "code",
   "execution_count": null,
   "id": "be4cb3ac-5669-4dc5-ae08-ae338549dc4a",
   "metadata": {},
   "outputs": [],
   "source": []
  },
  {
   "cell_type": "markdown",
   "id": "3e1be4ac-39ee-49bb-a34f-db7e7c61e307",
   "metadata": {},
   "source": [
    "**(b)** What is the confidence level for this interval?"
   ]
  },
  {
   "cell_type": "code",
   "execution_count": null,
   "id": "b3868b6b-69c4-45cd-87ca-0bc750aa6ee1",
   "metadata": {},
   "outputs": [],
   "source": []
  },
  {
   "cell_type": "markdown",
   "id": "a3ebc2c6-70cd-4484-a152-c6d80c3f8efb",
   "metadata": {},
   "source": [
    "### Question 12\n",
    "\n",
    "A survey was carried out to find out if Brazilians believe that Brazil will win the next world cup. A sample of 1000 Brazilians spread across the country and chosen at random was observed. Your result has been stored in file `./datasets/world_cup.csv`.\n",
    "\n",
    "Construct a 95% confidence interval on the Brazilian population who believes Brazil will win the next world cup. Use the method based on the Central Limit Theorem, Bootstrapping, and compare the results.\n",
    "\n",
    "**Tips**:\n",
    "- [Confidence Intervals for a Population Proportion](https://online.stat.psu.edu/stat100/lesson/9/9.1)\n",
    "- [statsmodels.stats.proportion.proportion_confint](https://www.statsmodels.org/dev/generated/statsmodels.stats.proportion.proportion_confint.html)"
   ]
  },
  {
   "cell_type": "code",
   "execution_count": null,
   "id": "f9cb41fd-aafa-4eb5-a07d-1eb92f8ba0d5",
   "metadata": {},
   "outputs": [],
   "source": []
  },
  {
   "cell_type": "markdown",
   "id": "b7ff51c9-c354-411a-926e-6d8a703f35a0",
   "metadata": {},
   "source": [
    "### Question 13\n",
    "\n",
    "The municipal administration wants to estimate the proportion of color blind in the city. For that, they observed a random sample of individuals, where the data is stored in the dataset `'./datasets/color_blind.csv'`. The column `color_blind` tells whether or not the person is colorblind."
   ]
  },
  {
   "cell_type": "markdown",
   "id": "f37a462c-fe2f-439f-b60e-2062d8de0545",
   "metadata": {},
   "source": [
    "**(a)** Construct a confidence interval for the proportion of the color blind population using a confidence level of 99%. Use the method based on the Central Limit Theorem, Bootstrapping, and compare the results."
   ]
  },
  {
   "cell_type": "code",
   "execution_count": null,
   "id": "53664136-8ab2-4460-9d11-2af46d811756",
   "metadata": {},
   "outputs": [],
   "source": []
  },
  {
   "cell_type": "markdown",
   "id": "fd5cd300-c4f7-442c-85a3-b08362d52788",
   "metadata": {},
   "source": [
    "**(b)** Consider that the the percentage of color blind people in the sample is 30%. Estimate the value of _n_ so that, with a significance level of 5%, the error in the estimate is less than 3.1%."
   ]
  },
  {
   "cell_type": "code",
   "execution_count": null,
   "id": "003fe8b8-3bd0-4a29-afe0-fcecb02c97fd",
   "metadata": {},
   "outputs": [],
   "source": []
  },
  {
   "cell_type": "markdown",
   "id": "9e37e951-39f7-48b9-a6a8-7244f4d3fa00",
   "metadata": {},
   "source": [
    "### Question 14\n",
    "\n",
    "The GoodFood restaurant offers _lunch_ and _dinner_ meals. There are two types of drinks: _juice_ and _soda_. GoodFood's manager suspects customers drink more soda at dinner. The manager randomly selects data from the system and the data was stored in the dataset `./datasets/goodfood.csv`. Each row contains the information of the meal time (column `meal`) and type of drink (column `drink`) ordered by the customer.\n",
    "\n",
    "Construct a 98% confidence interval for the proportion of ordering _soda_ for _dinner_ hours. Use the method based on the Central Limit Theorem, Bootstrapping, and compare the results."
   ]
  },
  {
   "cell_type": "code",
   "execution_count": null,
   "id": "e05191a9-b147-4daf-931a-dbe9d125cb00",
   "metadata": {},
   "outputs": [],
   "source": []
  }
 ],
 "metadata": {
  "kernelspec": {
   "display_name": "Python 3",
   "language": "python",
   "name": "python3"
  },
  "language_info": {
   "codemirror_mode": {
    "name": "ipython",
    "version": 3
   },
   "file_extension": ".py",
   "mimetype": "text/x-python",
   "name": "python",
   "nbconvert_exporter": "python",
   "pygments_lexer": "ipython3",
   "version": "3.9.5"
  }
 },
 "nbformat": 4,
 "nbformat_minor": 5
}
