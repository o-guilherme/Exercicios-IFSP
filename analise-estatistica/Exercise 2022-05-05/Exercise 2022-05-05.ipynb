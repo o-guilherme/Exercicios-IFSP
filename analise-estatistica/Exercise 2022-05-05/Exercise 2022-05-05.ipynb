{
 "cells": [
  {
   "cell_type": "markdown",
   "id": "fc7fecec-0992-482f-a85f-dc32db2c476f",
   "metadata": {
    "tags": []
   },
   "source": [
    "# Exercise - 05/05/2002"
   ]
  },
  {
   "cell_type": "markdown",
   "id": "2722b876-6fe5-4bbd-9e06-efbeefda8cdd",
   "metadata": {},
   "source": [
    "Consider the dataset below that contains **heights** (in inches/inches) and **weights** (in pounds/lbs) of fake people. <br/>\n",
    "https://www.kaggle.com/mustafaali96/weight-height\n",
    "\n",
    "Perform the following tasks:\n",
    "- Split the dataset into 80% for training and 20% for testing\n",
    "- Compute the correlation between the training set variables\n",
    "- Train a regression model considering **height** as the independent variable and **weight** as the dependent one\n",
    "   + Compute the model determination coefficient\n",
    "   + Plot a scatterplot of the two variables containing the regression model (line)\n",
    "- Predict the test set\n",
    "   + Plot a scatterplot of the two variables containing the regression model (line)\n",
    "   + Compute error metrics for regression"
   ]
  },
  {
   "cell_type": "markdown",
   "id": "9c756189-5d63-4dce-bac9-0faac9e6b541",
   "metadata": {},
   "source": [
    "***"
   ]
  },
  {
   "cell_type": "code",
   "execution_count": 12,
   "id": "1b516719-8220-4258-965a-34ca62ebcb37",
   "metadata": {
    "tags": []
   },
   "outputs": [],
   "source": [
    "#importing used modules\n",
    "import numpy as np\n",
    "import pandas as pd\n",
    "import matplotlib.pyplot as plt\n",
    "from sklearn.model_selection import train_test_split"
   ]
  },
  {
   "cell_type": "code",
   "execution_count": 2,
   "id": "7d9ba15d-d1a5-4a0f-a5d1-3e2cd52039fe",
   "metadata": {
    "jupyter": {
     "source_hidden": true
    },
    "tags": []
   },
   "outputs": [],
   "source": [
    "#loading the dataset\n",
    "df = pd.read_csv('datasets/weight-height.csv')"
   ]
  },
  {
   "cell_type": "code",
   "execution_count": 3,
   "id": "e63b585e-129f-4ad4-9c2b-d1ba94d045c7",
   "metadata": {},
   "outputs": [
    {
     "data": {
      "text/html": [
       "<div>\n",
       "<style scoped>\n",
       "    .dataframe tbody tr th:only-of-type {\n",
       "        vertical-align: middle;\n",
       "    }\n",
       "\n",
       "    .dataframe tbody tr th {\n",
       "        vertical-align: top;\n",
       "    }\n",
       "\n",
       "    .dataframe thead th {\n",
       "        text-align: right;\n",
       "    }\n",
       "</style>\n",
       "<table border=\"1\" class=\"dataframe\">\n",
       "  <thead>\n",
       "    <tr style=\"text-align: right;\">\n",
       "      <th></th>\n",
       "      <th>Gender</th>\n",
       "      <th>Height</th>\n",
       "      <th>Weight</th>\n",
       "    </tr>\n",
       "  </thead>\n",
       "  <tbody>\n",
       "    <tr>\n",
       "      <th>0</th>\n",
       "      <td>Male</td>\n",
       "      <td>73.847017</td>\n",
       "      <td>241.893563</td>\n",
       "    </tr>\n",
       "    <tr>\n",
       "      <th>1</th>\n",
       "      <td>Male</td>\n",
       "      <td>68.781904</td>\n",
       "      <td>162.310473</td>\n",
       "    </tr>\n",
       "    <tr>\n",
       "      <th>2</th>\n",
       "      <td>Male</td>\n",
       "      <td>74.110105</td>\n",
       "      <td>212.740856</td>\n",
       "    </tr>\n",
       "    <tr>\n",
       "      <th>3</th>\n",
       "      <td>Male</td>\n",
       "      <td>71.730978</td>\n",
       "      <td>220.042470</td>\n",
       "    </tr>\n",
       "    <tr>\n",
       "      <th>4</th>\n",
       "      <td>Male</td>\n",
       "      <td>69.881796</td>\n",
       "      <td>206.349801</td>\n",
       "    </tr>\n",
       "  </tbody>\n",
       "</table>\n",
       "</div>"
      ],
      "text/plain": [
       "  Gender     Height      Weight\n",
       "0   Male  73.847017  241.893563\n",
       "1   Male  68.781904  162.310473\n",
       "2   Male  74.110105  212.740856\n",
       "3   Male  71.730978  220.042470\n",
       "4   Male  69.881796  206.349801"
      ]
     },
     "execution_count": 3,
     "metadata": {},
     "output_type": "execute_result"
    }
   ],
   "source": [
    "#showing basic info about the dataset\n",
    "df.head()"
   ]
  },
  {
   "cell_type": "code",
   "execution_count": 4,
   "id": "686382c8-c2ab-4043-8df6-8638f24db7d0",
   "metadata": {
    "collapsed": true,
    "jupyter": {
     "outputs_hidden": true
    },
    "tags": []
   },
   "outputs": [
    {
     "data": {
      "text/plain": [
       "(10000, 3)"
      ]
     },
     "execution_count": 4,
     "metadata": {},
     "output_type": "execute_result"
    }
   ],
   "source": [
    "df.shape"
   ]
  },
  {
   "cell_type": "code",
   "execution_count": 5,
   "id": "9b91fb97-64e1-495c-825c-aa6df319e5e3",
   "metadata": {
    "collapsed": true,
    "jupyter": {
     "outputs_hidden": true,
     "source_hidden": true
    },
    "tags": []
   },
   "outputs": [
    {
     "data": {
      "text/plain": [
       "0         Male\n",
       "5000    Female\n",
       "Name: Gender, dtype: object"
      ]
     },
     "execution_count": 5,
     "metadata": {},
     "output_type": "execute_result"
    }
   ],
   "source": [
    "df['Gender'].drop_duplicates()"
   ]
  },
  {
   "cell_type": "markdown",
   "id": "b3bff4d6-141d-45f4-9524-5c012f581da8",
   "metadata": {
    "jupyter": {
     "source_hidden": true
    },
    "tags": []
   },
   "source": [
    "The dataset has 10000 lines and three columns, divided in two genders only. We can also make two copies of the set for each gender so we can see the differences easily."
   ]
  },
  {
   "cell_type": "code",
   "execution_count": 6,
   "id": "005b6731-73d9-46f5-81c5-8df6b8c2aeb4",
   "metadata": {
    "tags": []
   },
   "outputs": [],
   "source": [
    "df_males = df.groupby(df.Gender).get_group('Male')"
   ]
  },
  {
   "cell_type": "code",
   "execution_count": 7,
   "id": "fc084266-9f40-4f71-9bc0-f1e10ee7652b",
   "metadata": {},
   "outputs": [
    {
     "data": {
      "text/plain": [
       "0    Male\n",
       "Name: Gender, dtype: object"
      ]
     },
     "execution_count": 7,
     "metadata": {},
     "output_type": "execute_result"
    }
   ],
   "source": [
    "#Now this dataset only has the data of males\n",
    "df_males['Gender'].drop_duplicates()"
   ]
  },
  {
   "cell_type": "code",
   "execution_count": 8,
   "id": "4988bc85-a732-47bf-b26a-9cd5149959e7",
   "metadata": {},
   "outputs": [],
   "source": [
    "df_males = df_males.drop('Gender', axis=1, inplace=False)"
   ]
  },
  {
   "cell_type": "code",
   "execution_count": 9,
   "id": "4341ac5a-ec6d-4ef9-9516-5842721c3177",
   "metadata": {},
   "outputs": [
    {
     "data": {
      "text/plain": [
       "(5000, 2)"
      ]
     },
     "execution_count": 9,
     "metadata": {},
     "output_type": "execute_result"
    }
   ],
   "source": [
    "df_males.shape"
   ]
  },
  {
   "cell_type": "code",
   "execution_count": 10,
   "id": "dcd7fb73-1e51-4596-b673-79b2d287ef5b",
   "metadata": {},
   "outputs": [
    {
     "data": {
      "text/plain": [
       "(5000, 2)"
      ]
     },
     "execution_count": 10,
     "metadata": {},
     "output_type": "execute_result"
    }
   ],
   "source": [
    "#repeating the steps for females\n",
    "df_females = df.groupby(df.Gender).get_group('Female')\n",
    "df_females = df_females.drop('Gender', axis=1, inplace=False)\n",
    "df_females.shape"
   ]
  },
  {
   "cell_type": "markdown",
   "id": "8bfff958-c0cf-44bc-805c-e2b12e3f2771",
   "metadata": {},
   "source": [
    "We now have the datasets to work with. Let's start with the larger one."
   ]
  },
  {
   "cell_type": "code",
   "execution_count": 14,
   "id": "199c7a4f-608c-4a9e-9545-a25df52ad31d",
   "metadata": {},
   "outputs": [],
   "source": [
    "X = df[['Height']] #independent variable\n",
    "y = df[['Weight']] #dependent variable"
   ]
  },
  {
   "cell_type": "code",
   "execution_count": 16,
   "id": "abbbc77d-7fde-46f6-b0d7-a90e71e63958",
   "metadata": {},
   "outputs": [],
   "source": [
    "#splitting the set\n",
    "X_train, X_test, y_train, y_test = train_test_split(X, y, test_size=0.2, random_state = 1215)"
   ]
  },
  {
   "cell_type": "code",
   "execution_count": 31,
   "id": "b8153207-d60c-4c57-9b1c-e4b9d9e87f52",
   "metadata": {},
   "outputs": [
    {
     "name": "stdout",
     "output_type": "stream",
     "text": [
      "X_train size: 8000\n",
      "X_test size: 2000\n",
      "y_train size: 8000\n",
      "y_test size: 2000\n"
     ]
    }
   ],
   "source": [
    "#shape of the test data\n",
    "print(f'X_train size: {X_train.shape[0]}\\nX_test size: {X_test.shape[0]}\\ny_train size: {y_train.shape[0]}\\ny_test size: {y_test.shape[0]}')"
   ]
  },
  {
   "cell_type": "code",
   "execution_count": null,
   "id": "d00e4c62-b776-44da-a34f-b12ba1d7c7b2",
   "metadata": {},
   "outputs": [],
   "source": []
  },
  {
   "cell_type": "code",
   "execution_count": null,
   "id": "62f3b65d-8957-433b-9be7-1a510a7c9d26",
   "metadata": {},
   "outputs": [],
   "source": []
  },
  {
   "cell_type": "code",
   "execution_count": null,
   "id": "59cac6be-e30f-46c7-affe-1dd6ef3d36af",
   "metadata": {},
   "outputs": [],
   "source": []
  }
 ],
 "metadata": {
  "kernelspec": {
   "display_name": "Python 3 (ipykernel)",
   "language": "python",
   "name": "python3"
  },
  "language_info": {
   "codemirror_mode": {
    "name": "ipython",
    "version": 3
   },
   "file_extension": ".py",
   "mimetype": "text/x-python",
   "name": "python",
   "nbconvert_exporter": "python",
   "pygments_lexer": "ipython3",
   "version": "3.10.3"
  }
 },
 "nbformat": 4,
 "nbformat_minor": 5
}
