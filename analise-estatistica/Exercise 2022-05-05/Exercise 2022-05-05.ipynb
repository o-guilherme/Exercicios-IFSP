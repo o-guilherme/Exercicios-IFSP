{
 "cells": [
  {
   "cell_type": "markdown",
   "id": "fc7fecec-0992-482f-a85f-dc32db2c476f",
   "metadata": {},
   "source": [
    "# Exercise - 05/05/2002"
   ]
  },
  {
   "cell_type": "markdown",
   "id": "2722b876-6fe5-4bbd-9e06-efbeefda8cdd",
   "metadata": {},
   "source": [
    "Consider the dataset below that contains **heights** (in inches/inches) and **weights** (in pounds/lbs) of fake people. <br/>\n",
    "https://www.kaggle.com/mustafaali96/weight-height\n",
    "\n",
    "Perform the following tasks:\n",
    "- Split the dataset into 80% for training and 20% for testing\n",
    "- Compute the correlation between the training set variables\n",
    "- Train a regression model considering **height** as the independent variable and **weight** as the dependent one\n",
    "   + Compute the model determination coefficient\n",
    "   + Plot a scatterplot of the two variables containing the regression model (line)\n",
    "- Predict the test set\n",
    "   + Plot a scatterplot of the two variables containing the regression model (line)\n",
    "   + Compute error metrics for regression"
   ]
  },
  {
   "cell_type": "markdown",
   "id": "9c756189-5d63-4dce-bac9-0faac9e6b541",
   "metadata": {},
   "source": [
    "***"
   ]
  },
  {
   "cell_type": "code",
   "execution_count": null,
   "id": "1b516719-8220-4258-965a-34ca62ebcb37",
   "metadata": {},
   "outputs": [],
   "source": [
    "#importing used modules\n",
    "import numpy as np\n",
    "import pandas as pd\n",
    "import matplotlib.pyplot as plt"
   ]
  },
  {
   "cell_type": "code",
   "execution_count": null,
   "id": "7d9ba15d-d1a5-4a0f-a5d1-3e2cd52039fe",
   "metadata": {},
   "outputs": [],
   "source": [
    "#loading the dataset\n",
    "df = pd.read_csv('datasets/weight-height.csv')"
   ]
  },
  {
   "cell_type": "code",
   "execution_count": null,
   "id": "e63b585e-129f-4ad4-9c2b-d1ba94d045c7",
   "metadata": {},
   "outputs": [],
   "source": [
    "#showing basic info about the dataset\n",
    "df.head()"
   ]
  },
  {
   "cell_type": "code",
   "execution_count": null,
   "id": "686382c8-c2ab-4043-8df6-8638f24db7d0",
   "metadata": {},
   "outputs": [],
   "source": [
    "df.shape"
   ]
  },
  {
   "cell_type": "code",
   "execution_count": null,
   "id": "9b91fb97-64e1-495c-825c-aa6df319e5e3",
   "metadata": {},
   "outputs": [],
   "source": [
    "df['Gender'].drop_duplicates()"
   ]
  },
  {
   "cell_type": "markdown",
   "id": "b3bff4d6-141d-45f4-9524-5c012f581da8",
   "metadata": {},
   "source": [
    "The dataset has 10000 lines and three columns, divided in two genders only. We can also make two copies of the set for each gender so we can see the differences easily."
   ]
  },
  {
   "cell_type": "code",
   "execution_count": null,
   "id": "005b6731-73d9-46f5-81c5-8df6b8c2aeb4",
   "metadata": {},
   "outputs": [],
   "source": [
    "df_males = df.groupby(df.Gender).get_group('Male')"
   ]
  },
  {
   "cell_type": "code",
   "execution_count": null,
   "id": "fc084266-9f40-4f71-9bc0-f1e10ee7652b",
   "metadata": {},
   "outputs": [],
   "source": [
    "#Now this dataset only has the data of males\n",
    "df_males['Gender'].drop_duplicates()"
   ]
  },
  {
   "cell_type": "code",
   "execution_count": null,
   "id": "4988bc85-a732-47bf-b26a-9cd5149959e7",
   "metadata": {},
   "outputs": [],
   "source": [
    "df_males = df_males.drop('Gender', axis=1, inplace=False)"
   ]
  },
  {
   "cell_type": "code",
   "execution_count": null,
   "id": "4341ac5a-ec6d-4ef9-9516-5842721c3177",
   "metadata": {},
   "outputs": [],
   "source": [
    "df_males.shape"
   ]
  },
  {
   "cell_type": "code",
   "execution_count": null,
   "id": "dcd7fb73-1e51-4596-b673-79b2d287ef5b",
   "metadata": {},
   "outputs": [],
   "source": [
    "#repeating the steps for females\n",
    "df_females = df.groupby(df.Gender).get_group('Female')\n",
    "df_females = df_males.drop('Gender', axis=1, inplace=False)\n",
    "df_females.shape"
   ]
  }
 ],
 "metadata": {
  "kernelspec": {
   "display_name": "Python 3 (ipykernel)",
   "language": "python",
   "name": "python3"
  },
  "language_info": {
   "codemirror_mode": {
    "name": "ipython",
    "version": 3
   },
   "file_extension": ".py",
   "mimetype": "text/x-python",
   "name": "python",
   "nbconvert_exporter": "python",
   "pygments_lexer": "ipython3",
   "version": "3.10.3"
  }
 },
 "nbformat": 4,
 "nbformat_minor": 5
}
