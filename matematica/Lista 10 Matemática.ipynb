{
 "cells": [
  {
   "cell_type": "markdown",
   "id": "73aa62cd-a3af-4b3b-9e05-ba45e98f6fa3",
   "metadata": {},
   "source": [
    "## Lista 10"
   ]
  },
  {
   "cell_type": "markdown",
   "id": "af8f1e31-f30b-4321-9280-25c5a3cec5f1",
   "metadata": {},
   "source": [
    "<b>1.</b> Consideremos as seguintes bases do  $\\mathbb{R}2$ : $A = \\{(1, 1), (0, −1)\\}$ e $B = \\{(2, −3), (−3, 5)\\}$.\n",
    "\n",
    "a) Determinar a matriz-mudança de base $[I]^{A}_{B}$.\n",
    "\n",
    "b) Utilizar a matriz obtida no item a) para calcular $vB$ , sendo $vA = (2, 3)$.\n",
    "\n",
    "c) Determinar a matriz-mudança de base de $B$ para $A$."
   ]
  },
  {
   "cell_type": "markdown",
   "id": "21b4f38e-70fe-438e-810d-8363d19c093b",
   "metadata": {},
   "source": [
    "***Resposta:***"
   ]
  },
  {
   "cell_type": "markdown",
   "id": "f049b988-ce2e-48b6-90ab-92303f8e6f10",
   "metadata": {},
   "source": [
    "***"
   ]
  },
  {
   "cell_type": "markdown",
   "id": "4404249a-1bcc-41f3-bcfa-abd115c39f20",
   "metadata": {},
   "source": [
    "<b>2.</b> Sabendo que $[I]^{A}_{B} = \\begin{bmatrix} -1 & 4 \\\\ 4 & -11 \\end{bmatrix}$ e $B = \\{(3, 5), (1, 2)\\}$, determinar a base $A$."
   ]
  },
  {
   "cell_type": "markdown",
   "id": "e976dc98-bf46-43af-afe4-450af4e20911",
   "metadata": {},
   "source": [
    "***Resposta:***"
   ]
  },
  {
   "cell_type": "markdown",
   "id": "9be65f8c-07d0-4626-b436-b98ee09ea6d6",
   "metadata": {},
   "source": [
    "***"
   ]
  },
  {
   "cell_type": "markdown",
   "id": "fb0e4a54-88b0-4d52-9a18-69b1b1e0f8af",
   "metadata": {},
   "source": [
    "<b>3.</b> Seja $T : \\mathbb{R}\\rightarrow\\mathbb{R}$ um operador linear. Consideremos as bases $A$ canônica e $B = \\{(4,1),(-11,-3)\\}$. Sabendo que $[T]_{B} = \\begin{bmatrix} 3 & 5 \\\\ 1 & 2 \\end{bmatrix}$, determinar $[T]_{A}$, utilizando a relação entre matrizes semelhantes."
   ]
  },
  {
   "cell_type": "markdown",
   "id": "8407dd73-e14a-4b5e-a541-3a83a77bc00d",
   "metadata": {},
   "source": [
    "***Resposta:***"
   ]
  }
 ],
 "metadata": {
  "kernelspec": {
   "display_name": "Python 3 (ipykernel)",
   "language": "python",
   "name": "python3"
  },
  "language_info": {
   "codemirror_mode": {
    "name": "ipython",
    "version": 3
   },
   "file_extension": ".py",
   "mimetype": "text/x-python",
   "name": "python",
   "nbconvert_exporter": "python",
   "pygments_lexer": "ipython3",
   "version": "3.10.3"
  }
 },
 "nbformat": 4,
 "nbformat_minor": 5
}
