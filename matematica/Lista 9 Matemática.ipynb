{
 "cells": [
  {
   "cell_type": "markdown",
   "id": "92bdfc26-7f95-48a5-9c13-b1c1dba568b8",
   "metadata": {},
   "source": [
    "<h2 style='text-align: center'>Lista 9 - Transformações lineares</h2>"
   ]
  },
  {
   "cell_type": "markdown",
   "id": "8c318c1c-3fc9-433e-a0f4-10557e61b5de",
   "metadata": {
    "deletable": false,
    "editable": false,
    "tags": []
   },
   "source": [
    "***1.*** Dada a transformação linear $T : V \\longrightarrow W$, tal que $T(u) = 3u$ e $T(v) = u - v$, calcular em função de $u$ e $v$.\n",
    "\n",
    "a)$T(u+v)$<br>\n",
    "b)$T(3u)$<br>\n",
    "c)$T(4u-5v)$"
   ]
  },
  {
   "cell_type": "markdown",
   "id": "afdccf0c-c003-4305-b833-5089f674b97c",
   "metadata": {},
   "source": [
    "***Resposta:***"
   ]
  },
  {
   "cell_type": "markdown",
   "id": "8de1029c-b010-42fa-ab03-9cdeed6fcffc",
   "metadata": {
    "deletable": true,
    "editable": false,
    "tags": []
   },
   "source": [
    "***"
   ]
  },
  {
   "cell_type": "markdown",
   "id": "488b6632-b350-44f9-8217-7414cc737399",
   "metadata": {
    "deletable": true,
    "editable": false,
    "tags": []
   },
   "source": [
    "***2.*** Seja a aplicação $T:\\mathbb{R}^2 \\longrightarrow \\mathbb{R}^3$, definida por $T(x,y) = (x + ky,x + k,y)$. Verificar em que caso(s) $T$ é linear.\n",
    "\n",
    "a) $k=x$<br>\n",
    "b) $k=1$<br>\n",
    "c) $k=0$<br>"
   ]
  },
  {
   "cell_type": "markdown",
   "id": "231c2b83-733b-442b-b14e-f7cf85832353",
   "metadata": {},
   "source": [
    "***Resposta:***"
   ]
  },
  {
   "cell_type": "markdown",
   "id": "22a9d051-be2c-4362-a13f-a82900999302",
   "metadata": {
    "deletable": true,
    "editable": false,
    "tags": []
   },
   "source": [
    "***"
   ]
  },
  {
   "cell_type": "markdown",
   "id": "93e839fd-130e-4127-8b69-f5e52e219af0",
   "metadata": {
    "deletable": false,
    "editable": false,
    "tags": []
   },
   "source": [
    "***3.*** Seja $T:\\mathbb{R}^2 \\longrightarrow \\mathbb{R}^3$ uma transformação linear definida por $T(-2,3) = (-1,0,1)$ e $T(1,-2) = (0,-1,0)$.\n",
    "\n",
    "a) Determinar $T(x,y)$.<br>\n",
    "b) Determinar $N(T)$ e $Im(T)$."
   ]
  },
  {
   "cell_type": "markdown",
   "id": "9c48be42-9e29-43c8-85aa-2c2294660acb",
   "metadata": {},
   "source": [
    "***Resposta:***"
   ]
  },
  {
   "cell_type": "markdown",
   "id": "b55eb779-60f3-46a3-855c-5c3e08ec2a37",
   "metadata": {
    "deletable": false,
    "editable": false,
    "tags": []
   },
   "source": [
    "***"
   ]
  },
  {
   "cell_type": "markdown",
   "id": "27f04142-7176-4608-8ca9-c3eb8e102152",
   "metadata": {
    "deletable": false,
    "editable": false,
    "selectable": false,
    "tags": []
   },
   "source": [
    "***4.*** O vetor $v = (3,2)$ experimenta sequencialemente:\n",
    "\n",
    "(a) Uma reflexão em torno da reta $y=x$;<br>\n",
    "(b) Um cisalhamento horizontal de fator 2;<br>\n",
    "(c) Uma contração na direção $Oy$ de fator $\\frac{1}{3}$;<br>\n",
    "(d) Uma rotação de 90° no sentido anti-horário.\n",
    "\n",
    "a) Calcular o vetor resultante dessa sequência de operações.<br>\n",
    "b) Encontrar a expressão da transformação linear $T:\\mathbb{R}^2 \\longrightarrow \\mathbb{R}^2$ que representa a composta das quatro operações."
   ]
  },
  {
   "cell_type": "markdown",
   "id": "e3719d86-afa8-4b58-8df7-e2391e6a2692",
   "metadata": {},
   "source": [
    "***Resposta:***"
   ]
  },
  {
   "cell_type": "markdown",
   "id": "9cc3a49a-c34c-42ba-8619-64289764e9a2",
   "metadata": {
    "deletable": false,
    "editable": false,
    "tags": []
   },
   "source": [
    "***"
   ]
  }
 ],
 "metadata": {
  "kernelspec": {
   "display_name": "Python 3 (ipykernel)",
   "language": "python",
   "name": "python3"
  },
  "language_info": {
   "codemirror_mode": {
    "name": "ipython",
    "version": 3
   },
   "file_extension": ".py",
   "mimetype": "text/x-python",
   "name": "python",
   "nbconvert_exporter": "python",
   "pygments_lexer": "ipython3",
   "version": "3.10.3"
  }
 },
 "nbformat": 4,
 "nbformat_minor": 5
}
