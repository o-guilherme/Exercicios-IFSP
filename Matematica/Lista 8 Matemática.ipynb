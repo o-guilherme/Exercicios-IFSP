{
 "cells": [
  {
   "cell_type": "markdown",
   "id": "393b453d-a3e0-4481-b1cf-5ff47f45249c",
   "metadata": {},
   "source": [
    "## Lista 8 - Espaços vetoriais"
   ]
  },
  {
   "cell_type": "code",
   "execution_count": 1,
   "id": "ee28ce49-4d44-4aae-bf2d-2ae4520c0598",
   "metadata": {},
   "outputs": [],
   "source": [
    "#Importando pacotes utilizados no exercício\n",
    "import sympy as sp"
   ]
  },
  {
   "cell_type": "markdown",
   "id": "03f45efc-2486-4d3d-8141-cac259f1ab9e",
   "metadata": {},
   "source": [
    "***"
   ]
  },
  {
   "cell_type": "markdown",
   "id": "cccf7e02-f034-4512-9cf9-987487a39603",
   "metadata": {},
   "source": [
    "**1.** Verifique se o conjunto $A = \\left\\{ \\begin{bmatrix} 0 & a \\\\ b & 0 \\end{bmatrix} \\in M(2,2) | a,b \\in \\mathbb{R} \\right\\}$ com as operações escalares é um espaço vetorial."
   ]
  },
  {
   "cell_type": "markdown",
   "id": "00eaa23b-8a1a-4160-bcf9-7ef161610a90",
   "metadata": {},
   "source": [
    "***Resposta:***"
   ]
  },
  {
   "cell_type": "code",
   "execution_count": null,
   "id": "35941aef-0b38-41ae-9f41-42bd59752021",
   "metadata": {},
   "outputs": [],
   "source": []
  },
  {
   "cell_type": "markdown",
   "id": "7c90f99d-ebf3-4df3-b89d-7614a2b654af",
   "metadata": {},
   "source": [
    "***"
   ]
  },
  {
   "cell_type": "markdown",
   "id": "7e94cb99-12fb-4fbf-8f2e-a6c88fa1100f",
   "metadata": {},
   "source": [
    "**2.** O conjunto $S = \\{(x+y)|x + 3y = 0\\}$ é um subconjunto do $\\mathbb{R}²$. Verifique se é um subespaço vetorial relativo às operações de adição e multiplicação por escalar usuais."
   ]
  },
  {
   "cell_type": "markdown",
   "id": "dc70d1d3-61ad-4c97-96ae-4f07d209805f",
   "metadata": {},
   "source": [
    "***Resposta:***"
   ]
  },
  {
   "cell_type": "code",
   "execution_count": null,
   "id": "ff3f72fa-7eb5-4279-88ba-5f77d87efebd",
   "metadata": {},
   "outputs": [],
   "source": []
  },
  {
   "cell_type": "markdown",
   "id": "5a537063-49d0-4876-ad10-24ebaa842eef",
   "metadata": {},
   "source": [
    "***"
   ]
  },
  {
   "cell_type": "markdown",
   "id": "b5115bb4-c0d8-496c-8a20-5c2ec8c47502",
   "metadata": {},
   "source": [
    "**3.** Sejam os vetores $u = (2,-3, 2)$ e $v = (-1, 2, 4)$ em $\\mathbb{R}³$.\n",
    "\n",
    "a) Escrever o vetor $w = (7,-11,2)$ como combinação linear de $u$ e $v$.\n",
    "\n",
    "b) Para que o valor de $k$ o vetor $(-8,14,k)$ é ccombinação linear de $u$ e $v$?\n",
    "\n",
    "c) Determinar uma condição entre $a$, $b$ e $c$ para que o veotr $(a,b,c)$ seja uma combinação linear $u$ e $v$."
   ]
  },
  {
   "cell_type": "markdown",
   "id": "dc15d6cc-88a2-4063-a8bb-7ec9a59e329d",
   "metadata": {},
   "source": [
    "***Resposta:***"
   ]
  },
  {
   "cell_type": "code",
   "execution_count": null,
   "id": "a1bbc953-2736-40f2-9c75-cd79b897b947",
   "metadata": {},
   "outputs": [],
   "source": []
  },
  {
   "cell_type": "markdown",
   "id": "852ca6c4-040d-4181-83de-8d85e5a8b7f9",
   "metadata": {},
   "source": [
    "***"
   ]
  },
  {
   "cell_type": "markdown",
   "id": "34ab40b7-1fbe-4be6-902a-e5e2f44f4a52",
   "metadata": {},
   "source": [
    "**4.** Seja o conjunto $A = {v1,v2}$, sendo $v1 = (-1,3,1)$ e $v2 = (1,-2,4)$. Determinar\n",
    "\n",
    "a) O subespaço $G(A)$\n",
    "\n",
    "b) O valor de $k$ para que o vetor $v = (5, k, 11)$ pertença ao $G(A)$"
   ]
  },
  {
   "cell_type": "markdown",
   "id": "36f7e47e-ec2c-4386-bca4-55e2c9b7ee2b",
   "metadata": {},
   "source": [
    "***Resposta:***"
   ]
  },
  {
   "cell_type": "code",
   "execution_count": null,
   "id": "d90cd18a-d4ca-4860-aa47-a4458694b1bc",
   "metadata": {},
   "outputs": [],
   "source": []
  },
  {
   "cell_type": "markdown",
   "id": "7406698d-e288-423f-991c-14b5745069d7",
   "metadata": {},
   "source": [
    "***"
   ]
  },
  {
   "cell_type": "markdown",
   "id": "8c1440d8-6be9-48cc-910c-b8df5c5fefde",
   "metadata": {},
   "source": [
    "**5.** Verificar quais dos seguintes vetores formam uma base do $\\mathbf{R}²$.\n",
    "\n",
    "a) ${(1,2), (-1,3)}$\n",
    "\n",
    "b) ${(3,-6),(-4,8)}$\n",
    "\n",
    "c) ${(0,0),(2,3)}$\n",
    "\n",
    "d) ${(3,-1),(2,3)}$"
   ]
  },
  {
   "cell_type": "markdown",
   "id": "add7a8d6-006a-45d7-93b4-b7b3847f0f80",
   "metadata": {},
   "source": [
    "***Resposta:***"
   ]
  },
  {
   "cell_type": "code",
   "execution_count": null,
   "id": "2a8e8ae1-9121-4f0a-b7cc-705e5c2bc165",
   "metadata": {},
   "outputs": [],
   "source": []
  },
  {
   "cell_type": "markdown",
   "id": "7e80b86a-fd7e-49b9-91e6-a4f53f30a599",
   "metadata": {},
   "source": [
    "***"
   ]
  },
  {
   "cell_type": "markdown",
   "id": "67cfacfa-4d3d-486b-a324-870e1442f21c",
   "metadata": {},
   "source": [
    "**6.** Determinar a dimensão e uma base para o espaço-solução do sistema $S = \\left\\{ \\begin{array}{11} x + 2y - 2z -t = 0 \\\\ 2x + 4y + z + t = 0 \\\\ x + 2y + 3z + 2t = 0\\end{array}\\right.$"
   ]
  },
  {
   "cell_type": "markdown",
   "id": "7138d45c-826d-4083-8b4d-e2292412fb65",
   "metadata": {},
   "source": [
    "***Resposta:***"
   ]
  },
  {
   "cell_type": "code",
   "execution_count": null,
   "id": "0ea9581a-5b0a-4cd6-bddd-37d5b2ef5334",
   "metadata": {},
   "outputs": [],
   "source": []
  }
 ],
 "metadata": {
  "kernelspec": {
   "display_name": "Python 3 (ipykernel)",
   "language": "python",
   "name": "python3"
  },
  "language_info": {
   "codemirror_mode": {
    "name": "ipython",
    "version": 3
   },
   "file_extension": ".py",
   "mimetype": "text/x-python",
   "name": "python",
   "nbconvert_exporter": "python",
   "pygments_lexer": "ipython3",
   "version": "3.10.3"
  }
 },
 "nbformat": 4,
 "nbformat_minor": 5
}
