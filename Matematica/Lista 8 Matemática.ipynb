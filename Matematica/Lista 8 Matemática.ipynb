{
 "cells": [
  {
   "cell_type": "markdown",
   "id": "a4011361-0291-46d9-954b-d8d2bb101c86",
   "metadata": {},
   "source": [
    "Lista 8"
   ]
  },
  {
   "cell_type": "markdown",
   "id": "79a5f576-747e-4d9a-a5f2-538559db3c34",
   "metadata": {},
   "source": [
    "<b>1. </b> Verifique se o conjunto $A = \\left\\{ \\begin{bmatrix} 0 & a \\\\ b & 0 \\end{bmatrix}\\in M (2,2)|a,b \\in \\mathbb{R}\\right\\}$\n",
    "com as operações usuais é um\n",
    "espaço vetorial.\n"
   ]
  },
  {
   "cell_type": "markdown",
   "id": "50e94087-4f9b-4fb9-a743-c9ef04e256a5",
   "metadata": {},
   "source": [
    "***Resposta:***"
   ]
  },
  {
   "cell_type": "markdown",
   "id": "f6c673ac-5d56-4327-87bb-2027df4bb524",
   "metadata": {},
   "source": [
    "****"
   ]
  },
  {
   "cell_type": "markdown",
   "id": "63ae782f-7131-4c86-8cfb-eae4f9811352",
   "metadata": {},
   "source": [
    "O conjunto $S = \\{{(x, y)|x + 3y = 0}\\}$ é um subconjunto do R2. Verifique se é um subespaço\n",
    "vetorial relativo às operações de adição e multiplicação por escalar usuais."
   ]
  },
  {
   "cell_type": "markdown",
   "id": "2fd98e58-a92b-4437-ac0e-127f9ae61467",
   "metadata": {},
   "source": [
    "***Resposta:***"
   ]
  }
 ],
 "metadata": {
  "kernelspec": {
   "display_name": "Python 3 (ipykernel)",
   "language": "python",
   "name": "python3"
  },
  "language_info": {
   "codemirror_mode": {
    "name": "ipython",
    "version": 3
   },
   "file_extension": ".py",
   "mimetype": "text/x-python",
   "name": "python",
   "nbconvert_exporter": "python",
   "pygments_lexer": "ipython3",
   "version": "3.9.9"
  }
 },
 "nbformat": 4,
 "nbformat_minor": 5
}
