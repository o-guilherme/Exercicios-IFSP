{
 "cells": [
  {
   "cell_type": "markdown",
   "id": "393b453d-a3e0-4481-b1cf-5ff47f45249c",
   "metadata": {},
   "source": [
    "## Lista 8 - Espaços vetoriais"
   ]
  },
  {
   "cell_type": "code",
   "execution_count": 1,
   "id": "ee28ce49-4d44-4aae-bf2d-2ae4520c0598",
   "metadata": {},
   "outputs": [],
   "source": [
    "#Importando pacotes utilizados no exercício\n",
    "import sympy as sp"
   ]
  },
  {
   "cell_type": "markdown",
   "id": "03f45efc-2486-4d3d-8141-cac259f1ab9e",
   "metadata": {},
   "source": [
    "***"
   ]
  },
  {
   "cell_type": "markdown",
   "id": "cccf7e02-f034-4512-9cf9-987487a39603",
   "metadata": {
    "tags": []
   },
   "source": [
    "**1.** Verifique se o conjunto $A = \\left\\{ \\begin{bmatrix} 0 & a \\\\ b & 0 \\end{bmatrix} \\in M(2,2) | a,b \\in \\mathbb{R} \\right\\}$ com as operações escalares é um espaço vetorial."
   ]
  },
  {
   "cell_type": "markdown",
   "id": "00eaa23b-8a1a-4160-bcf9-7ef161610a90",
   "metadata": {
    "tags": []
   },
   "source": [
    "***Resposta:*** Para verificar se o conjunto é um espaço vetorial, precisamos testá-lo para verificar se atende aos oito axiomas necessários.\n",
    "\n",
    "Começando pelo da associatividade da adição $u+(v+w) = (u+v)+w$:"
   ]
  },
  {
   "cell_type": "code",
   "execution_count": 2,
   "id": "35941aef-0b38-41ae-9f41-42bd59752021",
   "metadata": {
    "tags": []
   },
   "outputs": [],
   "source": [
    "#definindo as variáveis\n",
    "x1, x2, x3, x4, x5, x6 = sp.symbols('x1, x2, x3, x4, x5, x6')\n",
    "u = sp.Matrix([[0,x1],[x2,0]])\n",
    "v = sp.Matrix([[0,x3],[x4,0]])\n",
    "w = sp.Matrix([[0,x5],[x6,0]])"
   ]
  },
  {
   "cell_type": "code",
   "execution_count": 3,
   "id": "61f8981a-1e0e-412a-b5f0-98d58ed86efd",
   "metadata": {
    "tags": []
   },
   "outputs": [
    {
     "data": {
      "text/plain": [
       "True"
      ]
     },
     "execution_count": 3,
     "metadata": {},
     "output_type": "execute_result"
    }
   ],
   "source": [
    "#A equação pode ser resolvida simplesmente usando o operador '=='\n",
    "u + (v+w) == (u + v) + w"
   ]
  },
  {
   "cell_type": "markdown",
   "id": "9c2165fc-70b4-47e2-8007-62a628d3e62c",
   "metadata": {
    "tags": []
   },
   "source": [
    "O próximo passo é verificar a comutatividade da adição ($u + v = v +u$)"
   ]
  },
  {
   "cell_type": "code",
   "execution_count": 4,
   "id": "9efd938d-cdda-4e31-8632-1cdd6f3cd3bb",
   "metadata": {
    "tags": []
   },
   "outputs": [
    {
     "data": {
      "text/plain": [
       "True"
      ]
     },
     "execution_count": 4,
     "metadata": {},
     "output_type": "execute_result"
    }
   ],
   "source": [
    "u + v == v + u"
   ]
  },
  {
   "cell_type": "markdown",
   "id": "9ce37905-4407-4a39-bddf-40517c0a8446",
   "metadata": {
    "tags": []
   },
   "source": [
    "Próximo axioma: Existência do elemento identidade da edição ($v + 0 = v$)"
   ]
  },
  {
   "cell_type": "code",
   "execution_count": 5,
   "id": "0885838a-f424-4827-8de8-31d18700f73e",
   "metadata": {
    "tags": []
   },
   "outputs": [
    {
     "data": {
      "text/plain": [
       "True"
      ]
     },
     "execution_count": 5,
     "metadata": {},
     "output_type": "execute_result"
    }
   ],
   "source": [
    "v + sp.zeros(2,2) == v #sp.zeros(2,2) gera uma matriz nula de 2x2"
   ]
  },
  {
   "cell_type": "markdown",
   "id": "2090aea2-e34d-4085-b1c5-ecb1d33aba25",
   "metadata": {
    "tags": []
   },
   "source": [
    "Próximo axioma: Existência do elemento inverso ($v + (-v) = v$)"
   ]
  },
  {
   "cell_type": "code",
   "execution_count": 6,
   "id": "3224d1ed-0418-44a2-b8ad-d4c1b2b8d1c7",
   "metadata": {
    "tags": []
   },
   "outputs": [
    {
     "data": {
      "text/plain": [
       "True"
      ]
     },
     "execution_count": 6,
     "metadata": {},
     "output_type": "execute_result"
    }
   ],
   "source": [
    "v + (-v) == sp.zeros(2,2)"
   ]
  },
  {
   "cell_type": "markdown",
   "id": "79854b33-1a01-4fba-82fc-d7bce4830484",
   "metadata": {
    "tags": []
   },
   "source": [
    "Próximo axioma: Multiplicação do escalar com multiplicação do corpo ($a(b\\mathbf{v}) = (ab)\\mathbf{v}$)"
   ]
  },
  {
   "cell_type": "code",
   "execution_count": 7,
   "id": "53dd85f3-2064-4096-acb6-30b624b84089",
   "metadata": {
    "tags": []
   },
   "outputs": [],
   "source": [
    "#Definindo escalares\n",
    "a, b = sp.symbols('a,b')"
   ]
  },
  {
   "cell_type": "code",
   "execution_count": 8,
   "id": "10a425e6-4eed-41f2-b4cd-24f114a177a6",
   "metadata": {
    "tags": []
   },
   "outputs": [
    {
     "data": {
      "text/plain": [
       "True"
      ]
     },
     "execution_count": 8,
     "metadata": {},
     "output_type": "execute_result"
    }
   ],
   "source": [
    "a*(b*v) == (a*b)*v"
   ]
  },
  {
   "cell_type": "markdown",
   "id": "d1d911dd-8083-44c2-8147-e755db4fe838",
   "metadata": {
    "tags": []
   },
   "source": [
    "Próximo axioma: Identidade na multiplicação por escalar ($1 \\times v = v$)"
   ]
  },
  {
   "cell_type": "code",
   "execution_count": 9,
   "id": "b4145be6-9e08-4bbd-b0d6-ee7aaab8df87",
   "metadata": {
    "tags": []
   },
   "outputs": [
    {
     "data": {
      "text/plain": [
       "True"
      ]
     },
     "execution_count": 9,
     "metadata": {},
     "output_type": "execute_result"
    }
   ],
   "source": [
    "1*v == v"
   ]
  },
  {
   "cell_type": "markdown",
   "id": "d44d3276-2554-4814-a344-cf082f6374a6",
   "metadata": {},
   "source": [
    "Próximo axioma: Distributividade na multiplicação por escalar na adição de vetores ($a(u+v)=au+av$)"
   ]
  },
  {
   "cell_type": "code",
   "execution_count": 10,
   "id": "9313e97c-815a-4b1b-8bac-35acddbc610d",
   "metadata": {},
   "outputs": [
    {
     "data": {
      "text/plain": [
       "False"
      ]
     },
     "execution_count": 10,
     "metadata": {},
     "output_type": "execute_result"
    }
   ],
   "source": [
    "a*(u+v) == a*u + a*v"
   ]
  },
  {
   "cell_type": "code",
   "execution_count": 11,
   "id": "157ec964-8d40-40bb-b564-65e25e20862c",
   "metadata": {},
   "outputs": [
    {
     "data": {
      "text/latex": [
       "$\\displaystyle \\left[\\begin{matrix}0 & a \\left(x_{1} + x_{3}\\right)\\\\a \\left(x_{2} + x_{4}\\right) & 0\\end{matrix}\\right]$"
      ],
      "text/plain": [
       "Matrix([\n",
       "[          0, a*(x1 + x3)],\n",
       "[a*(x2 + x4),           0]])"
      ]
     },
     "execution_count": 11,
     "metadata": {},
     "output_type": "execute_result"
    }
   ],
   "source": [
    "a*(u+v)"
   ]
  },
  {
   "cell_type": "code",
   "execution_count": 12,
   "id": "a5bd44f4-4852-4ad2-9681-3f94a8429e0d",
   "metadata": {},
   "outputs": [
    {
     "data": {
      "text/latex": [
       "$\\displaystyle \\left[\\begin{matrix}0 & a x_{1} + a x_{3}\\\\a x_{2} + a x_{4} & 0\\end{matrix}\\right]$"
      ],
      "text/plain": [
       "Matrix([\n",
       "[          0, a*x1 + a*x3],\n",
       "[a*x2 + a*x4,           0]])"
      ]
     },
     "execution_count": 12,
     "metadata": {},
     "output_type": "execute_result"
    }
   ],
   "source": [
    "a*u + a*v"
   ]
  },
  {
   "cell_type": "markdown",
   "id": "f0356695-588e-43b2-a54b-d02d0ce48660",
   "metadata": {},
   "source": [
    "O axioma acima deu falso. Porém isso é porque as expressões não são exatas, apesar de matematicamente iguais. Sendo assim precisamos usar a função simplify para reduzir ambas as equações."
   ]
  },
  {
   "cell_type": "code",
   "execution_count": 13,
   "id": "9030da2b-8f1c-48a9-bf2f-aad969d014e0",
   "metadata": {},
   "outputs": [
    {
     "data": {
      "text/plain": [
       "True"
      ]
     },
     "execution_count": 13,
     "metadata": {},
     "output_type": "execute_result"
    }
   ],
   "source": [
    "sp.simplify(a*(u+v)) == sp.simplify(a*u + a*v)"
   ]
  },
  {
   "cell_type": "markdown",
   "id": "e7f04dca-9264-4202-8608-0ce8fe265a4c",
   "metadata": {},
   "source": [
    "Último axioma: Distributividade na multiplicação por escalar na adição de corpos ($(a+b)\\mathbf{v}=a\\mathbf{v}+b\\mathbf{v}$)"
   ]
  },
  {
   "cell_type": "code",
   "execution_count": 14,
   "id": "16b0a544-8eae-42ad-93e3-452e396cc49d",
   "metadata": {},
   "outputs": [
    {
     "data": {
      "text/plain": [
       "True"
      ]
     },
     "execution_count": 14,
     "metadata": {},
     "output_type": "execute_result"
    }
   ],
   "source": [
    "sp.simplify((a+b)*v) == sp.simplify(a*v + b*v)"
   ]
  },
  {
   "cell_type": "markdown",
   "id": "803f8eec-38a6-45e8-b6ce-b8c805ee4611",
   "metadata": {
    "tags": []
   },
   "source": [
    "Conclusão: Após verificação dos oito axiomas, todos resultados foram verdadeiros. Logo, o conjunto é um espaço vetorial."
   ]
  },
  {
   "cell_type": "markdown",
   "id": "7c90f99d-ebf3-4df3-b89d-7614a2b654af",
   "metadata": {
    "tags": []
   },
   "source": [
    "***"
   ]
  },
  {
   "cell_type": "markdown",
   "id": "7e94cb99-12fb-4fbf-8f2e-a6c88fa1100f",
   "metadata": {},
   "source": [
    "**2.** O conjunto $S = \\{(x+y)|x + 3y = 0\\}$ é um subconjunto do $\\mathbb{R}²$. Verifique se é um subespaço vetorial relativo às operações de adição e multiplicação por escalar usuais."
   ]
  },
  {
   "cell_type": "markdown",
   "id": "dc70d1d3-61ad-4c97-96ae-4f07d209805f",
   "metadata": {},
   "source": [
    "***Resposta:*** A verificação de subespaço por adição e multiplicação exigem que para dois vetores no subespaço a soma deles também pertença ao subespaço e que a multiplicação também tenha um resultado nele.\n",
    "\n",
    "O enunciado dá que $x+3y=0$, logo podemos começar sabendo que $(-3y, y)$ pertence ao subespaço. Usando $a$ e $b$ como vetores a equação fica:\n",
    "\n",
    "$a+b = (-3x,x)+(-3y,y) \\rightarrow a+b = (-3(x+y), x+y)$\n",
    "\n",
    "o que está dentro do subconjunto, atendendo ao requisito da adição.\n",
    "\n",
    "Verificando agora se ele pode ser multiplicado pelo por um escalar ($e$):\n",
    "\n",
    "$eb = e(-3y,y) \\rightarrow eb=(-3ey,ey)$\n",
    "\n",
    "A multiplicação também está no subconjunto, logo esse subconjunto é um espaço vetorial."
   ]
  },
  {
   "cell_type": "markdown",
   "id": "5a537063-49d0-4876-ad10-24ebaa842eef",
   "metadata": {},
   "source": [
    "***"
   ]
  },
  {
   "cell_type": "markdown",
   "id": "b5115bb4-c0d8-496c-8a20-5c2ec8c47502",
   "metadata": {},
   "source": [
    "**3.** Sejam os vetores $u = (2,-3, 2)$ e $v = (-1, 2, 4)$ em $\\mathbb{R}³$.\n",
    "\n",
    "a) Escrever o vetor $w = (7,-11,2)$ como combinação linear de $u$ e $v$.\n",
    "\n",
    "b) Para que o valor de $k$ o vetor $(-8,14,k)$ é combinação linear de $u$ e $v$?\n",
    "\n",
    "c) Determinar uma condição entre $a$, $b$ e $c$ para que o vetor $(a,b,c)$ seja uma combinação linear $u$ e $v$."
   ]
  },
  {
   "cell_type": "markdown",
   "id": "dc15d6cc-88a2-4063-a8bb-7ec9a59e329d",
   "metadata": {},
   "source": [
    "***Resposta: a)*** Para achar a combinação linear temos que achar $ax + by = w$, ou no caso do exercício, $au + bv = w$"
   ]
  },
  {
   "cell_type": "code",
   "execution_count": 15,
   "id": "2b47d710-b19b-4b90-a3d1-6e2d82e03245",
   "metadata": {},
   "outputs": [
    {
     "data": {
      "text/plain": [
       "{a: 3, b: -1}"
      ]
     },
     "execution_count": 15,
     "metadata": {},
     "output_type": "execute_result"
    }
   ],
   "source": [
    "#definindo símbolos\n",
    "a, b = sp.symbols('a,b')\n",
    "#montando os elementos\n",
    "u = (2,-3,2)\n",
    "v = (-1,2,4)\n",
    "w = (7,-11,2)\n",
    "#resolvendo o sistema de equações\n",
    "eq =[0,0,0]\n",
    "\n",
    "for i in range(0,3):\n",
    "    eq[i] = (sp.Eq(a*u[i]+b*v[i],w[i]))\n",
    "\n",
    "sp.solve((eq[0],eq[1],eq[2]),(a,b))"
   ]
  },
  {
   "cell_type": "markdown",
   "id": "e4c46b02-58ec-4329-8407-82edce403b1e",
   "metadata": {},
   "source": [
    "Logo, para o vetor dado, a resposta fica $w = 3u-v$"
   ]
  },
  {
   "cell_type": "markdown",
   "id": "61ee4b35-5685-4698-93c4-6512c9ecafb2",
   "metadata": {},
   "source": [
    "***b)*** Igual o anterior, mas colocamos o elemento $k$ no vetor:"
   ]
  },
  {
   "cell_type": "code",
   "execution_count": 16,
   "id": "d034f304-574e-4a47-a5f9-398268cb83ec",
   "metadata": {},
   "outputs": [
    {
     "data": {
      "text/plain": [
       "{a: -2, b: 4, k: 12}"
      ]
     },
     "execution_count": 16,
     "metadata": {},
     "output_type": "execute_result"
    }
   ],
   "source": [
    "#definindo símbolos\n",
    "a, b, k = sp.symbols('a,b,k')\n",
    "#montando os elementos\n",
    "u = (2,-3,2)\n",
    "v = (-1,2,4)\n",
    "x = (-8,14,k)\n",
    "#resolvendo o sistema de equações\n",
    "eq =[0,0,0]\n",
    "\n",
    "for i in range(0,3):\n",
    "    eq[i] = (sp.Eq(a*u[i]+b*v[i],x[i]))\n",
    "\n",
    "sp.solve((eq[0],eq[1],eq[2]),(a,b,k))"
   ]
  },
  {
   "cell_type": "markdown",
   "id": "e4856582-074a-4428-bb10-2719cedc6674",
   "metadata": {},
   "source": [
    "Logo, $k = 12$"
   ]
  },
  {
   "cell_type": "markdown",
   "id": "140e9ec1-7205-4a28-9456-5959ea437122",
   "metadata": {},
   "source": [
    "***c)*** Para essa pergunta precisamos resolver $mu + nv = (a,b,c)$"
   ]
  },
  {
   "cell_type": "code",
   "execution_count": 21,
   "id": "db12d40f-37d6-4c4f-a7fe-9622208b7bab",
   "metadata": {},
   "outputs": [
    {
     "data": {
      "text/plain": [
       "[Eq(2*m - n, a), Eq(-3*m + 2*n, b), Eq(2*m + 4*n, c)]"
      ]
     },
     "execution_count": 21,
     "metadata": {},
     "output_type": "execute_result"
    }
   ],
   "source": [
    "#definindo símbolos\n",
    "m, n, a, b, c = sp.symbols('m, n, a, b, c')\n",
    "#montando os elementos\n",
    "u = (2,-3,2)\n",
    "v = (-1,2,4)\n",
    "w = (a,b,c)\n",
    "\n",
    "syst = [0,0,0]\n",
    "\n",
    "for i in range(0,3):\n",
    "    syst[i] = (sp.Eq(m*u[i]+n*v[i],w[i]))\n",
    "\n",
    "syst"
   ]
  },
  {
   "cell_type": "markdown",
   "id": "1405b333-9bb8-455e-ac9d-5090e95c4319",
   "metadata": {},
   "source": [
    "Isso nos deu um conjunto de três equações para resolver:\n",
    "\n",
    "$\\begin{cases}\n",
    "2m-n=a\\\\\n",
    "-3m +2n = b\\\\\n",
    "2m+4n =c \\\\\n",
    "\\end{cases}$"
   ]
  },
  {
   "cell_type": "markdown",
   "id": "eb70f5bf-0b6a-4cf9-9eb8-c4ff901b36f9",
   "metadata": {},
   "source": [
    "A primeira pode ser subraída da última resultando em:\n",
    "\n",
    "$\\displaystyle n = \\frac{c-a}{5}$"
   ]
  },
  {
   "cell_type": "markdown",
   "id": "6f62ced2-7c85-4df1-b984-2cba14bf7a80",
   "metadata": {},
   "source": [
    "Essa pode ser substituída na primeira resultando em\n",
    "\n",
    "$\\displaystyle m = \\frac{4a+c}{10}$"
   ]
  },
  {
   "cell_type": "markdown",
   "id": "8dfdd1b6-c2f8-4234-b0b3-947735264f25",
   "metadata": {},
   "source": [
    "E colocando esses valores na segunda equação chegamos à $16a + 10b -c =0$"
   ]
  },
  {
   "cell_type": "markdown",
   "id": "62365051-89a3-4f59-aaa4-764d9ac82bc0",
   "metadata": {},
   "source": [
    "***"
   ]
  },
  {
   "cell_type": "markdown",
   "id": "34ab40b7-1fbe-4be6-902a-e5e2f44f4a52",
   "metadata": {},
   "source": [
    "**4.** Seja o conjunto $A = {v1,v2}$, sendo $v1 = (-1,3,1)$ e $v2 = (1,-2,4)$. Determinar\n",
    "\n",
    "a) O subespaço $G(A)$\n",
    "\n",
    "b) O valor de $k$ para que o vetor $v = (5, k, 11)$ pertença ao $G(A)$"
   ]
  },
  {
   "cell_type": "markdown",
   "id": "36f7e47e-ec2c-4386-bca4-55e2c9b7ee2b",
   "metadata": {},
   "source": [
    "***Resposta: a)*** Precisamos calcular a combinação linear de $v1$ e $v2$:"
   ]
  },
  {
   "cell_type": "code",
   "execution_count": 68,
   "id": "797c332c-80e9-49a0-acb8-6656413a8041",
   "metadata": {},
   "outputs": [
    {
     "data": {
      "text/plain": [
       "{x: -a + b, y: 3*a - 2*b, z: -a + 4*b}"
      ]
     },
     "execution_count": 68,
     "metadata": {},
     "output_type": "execute_result"
    }
   ],
   "source": [
    "#definindo símbolos\n",
    "a, b, x, y, z = sp.symbols('a, b, x, y, z')\n",
    "\n",
    "#montando os elementos\n",
    "v1 = (-1,3,-1)\n",
    "v2 = (1,-2,4)\n",
    "GA = (x,y,z)\n",
    "#montando o sistema de equações\n",
    "eq = [0,0,0]\n",
    "for i in range(0,3):\n",
    "    eq[i] = (sp.Eq(a*v1[i]+b*v2[i],GA[i]))\n",
    "#isso nos dá um sistema com três equações\n",
    "syst = sp.solve((eq[0],eq[1],eq[2]),(x,y,z))\n",
    "\n",
    "syst"
   ]
  },
  {
   "cell_type": "code",
   "execution_count": 76,
   "id": "4214aa2d-2a68-432a-8ffd-3c7601c0fc3d",
   "metadata": {},
   "outputs": [
    {
     "data": {
      "text/latex": [
       "$\\displaystyle - \\frac{x}{3} + \\frac{z}{3}$"
      ],
      "text/plain": [
       "-x/3 + z/3"
      ]
     },
     "execution_count": 76,
     "metadata": {},
     "output_type": "execute_result"
    }
   ],
   "source": [
    "#Subtraindo a primeira da segunda, obtemos o valor de b\n",
    "val_b = sp.solve(sp.Eq((3*b),(z-x)))[0][b]\n",
    "val_b"
   ]
  },
  {
   "cell_type": "code",
   "execution_count": 75,
   "id": "b9ad521d-2b35-41fc-97a4-4beeb5d30448",
   "metadata": {},
   "outputs": [
    {
     "data": {
      "text/latex": [
       "$\\displaystyle - \\frac{4 x}{3} + \\frac{z}{3}$"
      ],
      "text/plain": [
       "-4*x/3 + z/3"
      ]
     },
     "execution_count": 75,
     "metadata": {},
     "output_type": "execute_result"
    }
   ],
   "source": [
    "#Também obtemos o valor de a se substituirmos na primeira\n",
    "eq1 = sp.Eq((-a+b),x)\n",
    "val_a = sp.solve(eq1.subs(b,val_b))[0][a]\n",
    "val_a"
   ]
  },
  {
   "cell_type": "code",
   "execution_count": 82,
   "id": "67ae2367-e05b-41a8-af68-d952594aba08",
   "metadata": {},
   "outputs": [
    {
     "data": {
      "text/plain": [
       "[{a: 2*b/3 + y/3}]"
      ]
     },
     "execution_count": 82,
     "metadata": {},
     "output_type": "execute_result"
    }
   ],
   "source": [
    "#Por último, substitimos tudo na segunda equação\n",
    "eq2 = sp.Eq((3*a - 2*b),y)\n",
    "val_y = sp.solve(eq2.subs((a,b),(val_a,val_b)))\n",
    "val_y"
   ]
  },
  {
   "cell_type": "code",
   "execution_count": 93,
   "id": "fff5efc9-5b7c-42d4-87e8-3c1a9b7d62b2",
   "metadata": {},
   "outputs": [
    {
     "data": {
      "text/latex": [
       "$\\displaystyle 10 x = - 3 y + z$"
      ],
      "text/plain": [
       "Eq(10*x, -3*y + z)"
      ]
     },
     "execution_count": 93,
     "metadata": {},
     "output_type": "execute_result"
    }
   ],
   "source": [
    "#Por último, substitimos tudo na segunda equação\n",
    "eq2 = sp.Eq((3*val_a - 2*val_b),y)\n",
    "sp.simplify(eq2)"
   ]
  },
  {
   "cell_type": "markdown",
   "id": "aed3b72a-acef-4519-bd09-117cec071c9f",
   "metadata": {},
   "source": [
    "Balanceando a igualdade para o subespaço e colocando em notação matemática, concluímos que: $G(A) = \\{(x,y,z) \\in R^3; 10x + 3y -z = 0\\}$"
   ]
  },
  {
   "cell_type": "markdown",
   "id": "c5199918-9e70-4bf0-896f-629fc0faaac3",
   "metadata": {},
   "source": [
    "***b)***:"
   ]
  },
  {
   "cell_type": "code",
   "execution_count": 97,
   "id": "926069a7-63f6-4d85-9a7d-843507e28eac",
   "metadata": {},
   "outputs": [
    {
     "data": {
      "text/plain": [
       "[50, 3*k, -11]"
      ]
     },
     "execution_count": 97,
     "metadata": {},
     "output_type": "execute_result"
    }
   ],
   "source": [
    "k = sp.symbols('k')\n",
    "GA = [10,3,-1]\n",
    "v = [5,k,11]\n",
    "vetor =  [0,0,0]\n",
    "for i in range(0,3):\n",
    "    vetor[i] = GA[i] * v[i]\n",
    "vetor"
   ]
  },
  {
   "cell_type": "code",
   "execution_count": 100,
   "id": "97c8193b-bd05-438f-8de1-69915c030849",
   "metadata": {},
   "outputs": [
    {
     "data": {
      "text/plain": [
       "[-13]"
      ]
     },
     "execution_count": 100,
     "metadata": {},
     "output_type": "execute_result"
    }
   ],
   "source": [
    "k_val = sp.solve(sp.Eq(50 + 3*k +(-11),0))\n",
    "k_val"
   ]
  },
  {
   "cell_type": "markdown",
   "id": "84a15039-f13d-4576-ad9b-c173da77c39c",
   "metadata": {},
   "source": [
    "Para pertencer à $G(A)$, o valor de k é $k=-13$"
   ]
  },
  {
   "cell_type": "markdown",
   "id": "7406698d-e288-423f-991c-14b5745069d7",
   "metadata": {},
   "source": [
    "***"
   ]
  },
  {
   "cell_type": "markdown",
   "id": "8c1440d8-6be9-48cc-910c-b8df5c5fefde",
   "metadata": {},
   "source": [
    "**5.** Verificar quais dos seguintes vetores formam uma base do $\\mathbf{R}²$.\n",
    "\n",
    "a) ${(1,2), (-1,3)}$\n",
    "\n",
    "b) ${(3,-6),(-4,8)}$\n",
    "\n",
    "c) ${(0,0),(2,3)}$\n",
    "\n",
    "d) ${(3,-1),(2,3)}$"
   ]
  },
  {
   "cell_type": "markdown",
   "id": "add7a8d6-006a-45d7-93b4-b7b3847f0f80",
   "metadata": {},
   "source": [
    "***Resposta:***"
   ]
  },
  {
   "cell_type": "code",
   "execution_count": null,
   "id": "2a8e8ae1-9121-4f0a-b7cc-705e5c2bc165",
   "metadata": {},
   "outputs": [],
   "source": []
  },
  {
   "cell_type": "markdown",
   "id": "7e80b86a-fd7e-49b9-91e6-a4f53f30a599",
   "metadata": {},
   "source": [
    "***"
   ]
  },
  {
   "cell_type": "markdown",
   "id": "67cfacfa-4d3d-486b-a324-870e1442f21c",
   "metadata": {},
   "source": [
    "**6.** Determinar a dimensão e uma base para o espaço-solução do sistema $S = \\left\\{ \\begin{array}{11} x + 2y - 2z -t = 0 \\\\ 2x + 4y + z + t = 0 \\\\ x + 2y + 3z + 2t = 0\\end{array}\\right.$"
   ]
  },
  {
   "cell_type": "markdown",
   "id": "7138d45c-826d-4083-8b4d-e2292412fb65",
   "metadata": {},
   "source": [
    "***Resposta:***"
   ]
  },
  {
   "cell_type": "code",
   "execution_count": null,
   "id": "0ea9581a-5b0a-4cd6-bddd-37d5b2ef5334",
   "metadata": {
    "tags": []
   },
   "outputs": [],
   "source": []
  }
 ],
 "metadata": {
  "kernelspec": {
   "display_name": "Python 3 (ipykernel)",
   "language": "python",
   "name": "python3"
  },
  "language_info": {
   "codemirror_mode": {
    "name": "ipython",
    "version": 3
   },
   "file_extension": ".py",
   "mimetype": "text/x-python",
   "name": "python",
   "nbconvert_exporter": "python",
   "pygments_lexer": "ipython3",
   "version": "3.10.3"
  }
 },
 "nbformat": 4,
 "nbformat_minor": 5
}
