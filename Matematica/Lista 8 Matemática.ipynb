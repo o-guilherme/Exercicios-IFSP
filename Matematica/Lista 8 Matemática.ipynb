{
 "cells": [
  {
   "cell_type": "markdown",
   "id": "393b453d-a3e0-4481-b1cf-5ff47f45249c",
   "metadata": {},
   "source": [
    "## Lista 8 - Espaços vetoriais"
   ]
  },
  {
   "cell_type": "code",
   "execution_count": 1,
   "id": "ee28ce49-4d44-4aae-bf2d-2ae4520c0598",
   "metadata": {},
   "outputs": [],
   "source": [
    "#Importando pacotes utilizados no exercício\n",
    "import sympy as sp"
   ]
  },
  {
   "cell_type": "markdown",
   "id": "03f45efc-2486-4d3d-8141-cac259f1ab9e",
   "metadata": {},
   "source": [
    "***"
   ]
  },
  {
   "cell_type": "markdown",
   "id": "cccf7e02-f034-4512-9cf9-987487a39603",
   "metadata": {},
   "source": [
    "**1.** Verifique se o conjunto $A = \\left\\{ \\begin{bmatrix} 0 & a \\\\ b & 0 \\end{bmatrix} \\in M(2,2) | a,b \\in \\mathbb{R} \\right\\}$ com as operações escalares é um espaço vetorial."
   ]
  },
  {
   "cell_type": "markdown",
   "id": "00eaa23b-8a1a-4160-bcf9-7ef161610a90",
   "metadata": {},
   "source": [
    "***Resposta:*** Para verificar se o conjunto é um espaço vetorial, precisamos testá-lo para verificar se atende aos oito axiomas necessários.\n",
    "\n",
    "Começando pelo da associatividade da adição $u+(v+w) = (u+v)+w$:"
   ]
  },
  {
   "cell_type": "code",
   "execution_count": 2,
   "id": "35941aef-0b38-41ae-9f41-42bd59752021",
   "metadata": {},
   "outputs": [],
   "source": [
    "#definindo as variáveis\n",
    "x1, x2, x3, x4, x5, x6 = sp.symbols('x1, x2, x3, x4, x5, x6')\n",
    "u = sp.Matrix([[0,x1],[x2,0]])\n",
    "v = sp.Matrix([[0,x3],[x4,0]])\n",
    "w = sp.Matrix([[0,x5],[x6,0]])"
   ]
  },
  {
   "cell_type": "code",
   "execution_count": 3,
   "id": "61f8981a-1e0e-412a-b5f0-98d58ed86efd",
   "metadata": {},
   "outputs": [
    {
     "data": {
      "text/plain": [
       "True"
      ]
     },
     "execution_count": 3,
     "metadata": {},
     "output_type": "execute_result"
    }
   ],
   "source": [
    "#A equação pode ser resolvida simplesmente usando o operador '=='\n",
    "u + (v+w) == (u + v) + w"
   ]
  },
  {
   "cell_type": "markdown",
   "id": "9c2165fc-70b4-47e2-8007-62a628d3e62c",
   "metadata": {},
   "source": [
    "O próximo passo é verificar a comutatividade da adição ($u + v = v +u$)"
   ]
  },
  {
   "cell_type": "code",
   "execution_count": 4,
   "id": "9efd938d-cdda-4e31-8632-1cdd6f3cd3bb",
   "metadata": {},
   "outputs": [
    {
     "data": {
      "text/plain": [
       "True"
      ]
     },
     "execution_count": 4,
     "metadata": {},
     "output_type": "execute_result"
    }
   ],
   "source": [
    "u + v == v + u"
   ]
  },
  {
   "cell_type": "markdown",
   "id": "9ce37905-4407-4a39-bddf-40517c0a8446",
   "metadata": {},
   "source": [
    "Próximo axioma: Existência do elemento identidade da edição ($v + 0 = v$)"
   ]
  },
  {
   "cell_type": "code",
   "execution_count": 5,
   "id": "0885838a-f424-4827-8de8-31d18700f73e",
   "metadata": {},
   "outputs": [
    {
     "data": {
      "text/plain": [
       "True"
      ]
     },
     "execution_count": 5,
     "metadata": {},
     "output_type": "execute_result"
    }
   ],
   "source": [
    "v + sp.zeros(2,2) == v #sp.zeros(2,2) gera uma matriz nula de 2x2"
   ]
  },
  {
   "cell_type": "markdown",
   "id": "2090aea2-e34d-4085-b1c5-ecb1d33aba25",
   "metadata": {},
   "source": [
    "Próximo axioma: Existência do elemento inverso ($v + (-v) = v$)"
   ]
  },
  {
   "cell_type": "code",
   "execution_count": 6,
   "id": "3224d1ed-0418-44a2-b8ad-d4c1b2b8d1c7",
   "metadata": {},
   "outputs": [
    {
     "data": {
      "text/plain": [
       "True"
      ]
     },
     "execution_count": 6,
     "metadata": {},
     "output_type": "execute_result"
    }
   ],
   "source": [
    "v + (-v) == sp.zeros(2,2)"
   ]
  },
  {
   "cell_type": "markdown",
   "id": "79854b33-1a01-4fba-82fc-d7bce4830484",
   "metadata": {},
   "source": [
    "Próximo axioma: Multiplicação do escalar com multiplicação do corpo ($a(b\\mathbf{v}) = (ab)\\mathbf{v}$)"
   ]
  },
  {
   "cell_type": "code",
   "execution_count": 7,
   "id": "53dd85f3-2064-4096-acb6-30b624b84089",
   "metadata": {},
   "outputs": [],
   "source": [
    "#Definindo escalares\n",
    "a, b = sp.symbols('a,b')"
   ]
  },
  {
   "cell_type": "code",
   "execution_count": 8,
   "id": "10a425e6-4eed-41f2-b4cd-24f114a177a6",
   "metadata": {},
   "outputs": [
    {
     "data": {
      "text/plain": [
       "True"
      ]
     },
     "execution_count": 8,
     "metadata": {},
     "output_type": "execute_result"
    }
   ],
   "source": [
    "a*(b*v) == (a*b)*v"
   ]
  },
  {
   "cell_type": "markdown",
   "id": "d1d911dd-8083-44c2-8147-e755db4fe838",
   "metadata": {},
   "source": [
    "Próximo axioma: Identidade na multiplicação por escalar ($1 \\times v = v$)"
   ]
  },
  {
   "cell_type": "code",
   "execution_count": 9,
   "id": "b4145be6-9e08-4bbd-b0d6-ee7aaab8df87",
   "metadata": {},
   "outputs": [
    {
     "data": {
      "text/plain": [
       "True"
      ]
     },
     "execution_count": 9,
     "metadata": {},
     "output_type": "execute_result"
    }
   ],
   "source": [
    "1*v == v"
   ]
  },
  {
   "cell_type": "markdown",
   "id": "d44d3276-2554-4814-a344-cf082f6374a6",
   "metadata": {},
   "source": [
    "Próximo axioma: Distributividade na multiplicação por escalar na adição de vetores ($a(u+v)=au+av$)"
   ]
  },
  {
   "cell_type": "code",
   "execution_count": 10,
   "id": "9313e97c-815a-4b1b-8bac-35acddbc610d",
   "metadata": {},
   "outputs": [
    {
     "data": {
      "text/plain": [
       "False"
      ]
     },
     "execution_count": 10,
     "metadata": {},
     "output_type": "execute_result"
    }
   ],
   "source": [
    "a*(u+v) == a*u + a*v"
   ]
  },
  {
   "cell_type": "code",
   "execution_count": 11,
   "id": "157ec964-8d40-40bb-b564-65e25e20862c",
   "metadata": {},
   "outputs": [
    {
     "data": {
      "text/latex": [
       "$\\displaystyle \\left[\\begin{matrix}0 & a \\left(x_{1} + x_{3}\\right)\\\\a \\left(x_{2} + x_{4}\\right) & 0\\end{matrix}\\right]$"
      ],
      "text/plain": [
       "Matrix([\n",
       "[          0, a*(x1 + x3)],\n",
       "[a*(x2 + x4),           0]])"
      ]
     },
     "execution_count": 11,
     "metadata": {},
     "output_type": "execute_result"
    }
   ],
   "source": [
    "a*(u+v)"
   ]
  },
  {
   "cell_type": "code",
   "execution_count": 12,
   "id": "a5bd44f4-4852-4ad2-9681-3f94a8429e0d",
   "metadata": {},
   "outputs": [
    {
     "data": {
      "text/latex": [
       "$\\displaystyle \\left[\\begin{matrix}0 & a x_{1} + a x_{3}\\\\a x_{2} + a x_{4} & 0\\end{matrix}\\right]$"
      ],
      "text/plain": [
       "Matrix([\n",
       "[          0, a*x1 + a*x3],\n",
       "[a*x2 + a*x4,           0]])"
      ]
     },
     "execution_count": 12,
     "metadata": {},
     "output_type": "execute_result"
    }
   ],
   "source": [
    "a*u + a*v"
   ]
  },
  {
   "cell_type": "markdown",
   "id": "f0356695-588e-43b2-a54b-d02d0ce48660",
   "metadata": {},
   "source": [
    "O axioma acima deu falso. Porém isso é porque as expressões não são exatas, apesar de matematicamente iguais. Sendo assim precisamos usar a função simplify para reduzir ambas as equações."
   ]
  },
  {
   "cell_type": "code",
   "execution_count": 13,
   "id": "9030da2b-8f1c-48a9-bf2f-aad969d014e0",
   "metadata": {},
   "outputs": [
    {
     "data": {
      "text/plain": [
       "True"
      ]
     },
     "execution_count": 13,
     "metadata": {},
     "output_type": "execute_result"
    }
   ],
   "source": [
    "sp.simplify(a*(u+v)) == sp.simplify(a*u + a*v)"
   ]
  },
  {
   "cell_type": "markdown",
   "id": "e7f04dca-9264-4202-8608-0ce8fe265a4c",
   "metadata": {},
   "source": [
    "Último axioma: Distributividade na multiplicação por escalar na adição de corpos ($(a+b)\\mathbf{v}=a\\mathbf{v}+b\\mathbf{v}$)"
   ]
  },
  {
   "cell_type": "code",
   "execution_count": 14,
   "id": "16b0a544-8eae-42ad-93e3-452e396cc49d",
   "metadata": {},
   "outputs": [
    {
     "data": {
      "text/plain": [
       "True"
      ]
     },
     "execution_count": 14,
     "metadata": {},
     "output_type": "execute_result"
    }
   ],
   "source": [
    "sp.simplify((a+b)*v) == sp.simplify(a*v + b*v)"
   ]
  },
  {
   "cell_type": "markdown",
   "id": "803f8eec-38a6-45e8-b6ce-b8c805ee4611",
   "metadata": {},
   "source": [
    "Conclusão: Após verificação dos oito axiomas, todos resultados foram verdadeiros. Logo, o conjunto é um espaço vetorial."
   ]
  },
  {
   "cell_type": "markdown",
   "id": "7c90f99d-ebf3-4df3-b89d-7614a2b654af",
   "metadata": {},
   "source": [
    "***"
   ]
  },
  {
   "cell_type": "markdown",
   "id": "7e94cb99-12fb-4fbf-8f2e-a6c88fa1100f",
   "metadata": {},
   "source": [
    "**2.** O conjunto $S = \\{(x+y)|x + 3y = 0\\}$ é um subconjunto do $\\mathbb{R}²$. Verifique se é um subespaço vetorial relativo às operações de adição e multiplicação por escalar usuais."
   ]
  },
  {
   "cell_type": "markdown",
   "id": "dc70d1d3-61ad-4c97-96ae-4f07d209805f",
   "metadata": {},
   "source": [
    "***Resposta:***"
   ]
  },
  {
   "cell_type": "code",
   "execution_count": null,
   "id": "ff3f72fa-7eb5-4279-88ba-5f77d87efebd",
   "metadata": {},
   "outputs": [],
   "source": []
  },
  {
   "cell_type": "markdown",
   "id": "5a537063-49d0-4876-ad10-24ebaa842eef",
   "metadata": {},
   "source": [
    "***"
   ]
  },
  {
   "cell_type": "markdown",
   "id": "b5115bb4-c0d8-496c-8a20-5c2ec8c47502",
   "metadata": {},
   "source": [
    "**3.** Sejam os vetores $u = (2,-3, 2)$ e $v = (-1, 2, 4)$ em $\\mathbb{R}³$.\n",
    "\n",
    "a) Escrever o vetor $w = (7,-11,2)$ como combinação linear de $u$ e $v$.\n",
    "\n",
    "b) Para que o valor de $k$ o vetor $(-8,14,k)$ é ccombinação linear de $u$ e $v$?\n",
    "\n",
    "c) Determinar uma condição entre $a$, $b$ e $c$ para que o veotr $(a,b,c)$ seja uma combinação linear $u$ e $v$."
   ]
  },
  {
   "cell_type": "markdown",
   "id": "dc15d6cc-88a2-4063-a8bb-7ec9a59e329d",
   "metadata": {},
   "source": [
    "***Resposta:***"
   ]
  },
  {
   "cell_type": "code",
   "execution_count": null,
   "id": "a1bbc953-2736-40f2-9c75-cd79b897b947",
   "metadata": {},
   "outputs": [],
   "source": []
  },
  {
   "cell_type": "markdown",
   "id": "852ca6c4-040d-4181-83de-8d85e5a8b7f9",
   "metadata": {},
   "source": [
    "***"
   ]
  },
  {
   "cell_type": "markdown",
   "id": "34ab40b7-1fbe-4be6-902a-e5e2f44f4a52",
   "metadata": {},
   "source": [
    "**4.** Seja o conjunto $A = {v1,v2}$, sendo $v1 = (-1,3,1)$ e $v2 = (1,-2,4)$. Determinar\n",
    "\n",
    "a) O subespaço $G(A)$\n",
    "\n",
    "b) O valor de $k$ para que o vetor $v = (5, k, 11)$ pertença ao $G(A)$"
   ]
  },
  {
   "cell_type": "markdown",
   "id": "36f7e47e-ec2c-4386-bca4-55e2c9b7ee2b",
   "metadata": {},
   "source": [
    "***Resposta:***"
   ]
  },
  {
   "cell_type": "code",
   "execution_count": null,
   "id": "d90cd18a-d4ca-4860-aa47-a4458694b1bc",
   "metadata": {},
   "outputs": [],
   "source": []
  },
  {
   "cell_type": "markdown",
   "id": "7406698d-e288-423f-991c-14b5745069d7",
   "metadata": {},
   "source": [
    "***"
   ]
  },
  {
   "cell_type": "markdown",
   "id": "8c1440d8-6be9-48cc-910c-b8df5c5fefde",
   "metadata": {},
   "source": [
    "**5.** Verificar quais dos seguintes vetores formam uma base do $\\mathbf{R}²$.\n",
    "\n",
    "a) ${(1,2), (-1,3)}$\n",
    "\n",
    "b) ${(3,-6),(-4,8)}$\n",
    "\n",
    "c) ${(0,0),(2,3)}$\n",
    "\n",
    "d) ${(3,-1),(2,3)}$"
   ]
  },
  {
   "cell_type": "markdown",
   "id": "add7a8d6-006a-45d7-93b4-b7b3847f0f80",
   "metadata": {},
   "source": [
    "***Resposta:***"
   ]
  },
  {
   "cell_type": "code",
   "execution_count": null,
   "id": "2a8e8ae1-9121-4f0a-b7cc-705e5c2bc165",
   "metadata": {},
   "outputs": [],
   "source": []
  },
  {
   "cell_type": "markdown",
   "id": "7e80b86a-fd7e-49b9-91e6-a4f53f30a599",
   "metadata": {},
   "source": [
    "***"
   ]
  },
  {
   "cell_type": "markdown",
   "id": "67cfacfa-4d3d-486b-a324-870e1442f21c",
   "metadata": {},
   "source": [
    "**6.** Determinar a dimensão e uma base para o espaço-solução do sistema $S = \\left\\{ \\begin{array}{11} x + 2y - 2z -t = 0 \\\\ 2x + 4y + z + t = 0 \\\\ x + 2y + 3z + 2t = 0\\end{array}\\right.$"
   ]
  },
  {
   "cell_type": "markdown",
   "id": "7138d45c-826d-4083-8b4d-e2292412fb65",
   "metadata": {},
   "source": [
    "***Resposta:***"
   ]
  },
  {
   "cell_type": "code",
   "execution_count": null,
   "id": "0ea9581a-5b0a-4cd6-bddd-37d5b2ef5334",
   "metadata": {},
   "outputs": [],
   "source": []
  }
 ],
 "metadata": {
  "kernelspec": {
   "display_name": "Python 3 (ipykernel)",
   "language": "python",
   "name": "python3"
  },
  "language_info": {
   "codemirror_mode": {
    "name": "ipython",
    "version": 3
   },
   "file_extension": ".py",
   "mimetype": "text/x-python",
   "name": "python",
   "nbconvert_exporter": "python",
   "pygments_lexer": "ipython3",
   "version": "3.10.3"
  }
 },
 "nbformat": 4,
 "nbformat_minor": 5
}
